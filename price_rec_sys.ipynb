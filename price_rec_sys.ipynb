{
 "cells": [
  {
   "cell_type": "code",
   "execution_count": 48,
   "metadata": {},
   "outputs": [],
   "source": [
    "import pandas as pd\n",
    "from scipy import sparse\n",
    "from sklearn.metrics.pairwise import cosine_similarity"
   ]
  },
  {
   "cell_type": "code",
   "execution_count": 49,
   "metadata": {},
   "outputs": [],
   "source": [
    "def recommendation(csv_file): #valuation,location,sq_feet etc.\n",
    "    df=pd.read_csv(csv_file+\".csv\",index_col='Users')\n",
    "    return df\n",
    "df=recommendation(\"valuation\")"
   ]
  },
  {
   "cell_type": "code",
   "execution_count": 50,
   "metadata": {},
   "outputs": [],
   "source": [
    "df=df.fillna(0)"
   ]
  },
  {
   "cell_type": "code",
   "execution_count": 51,
   "metadata": {},
   "outputs": [],
   "source": [
    "def convert_int(df):\n",
    "    for i in df.columns:\n",
    "        df[i]=df[i].astype('int')\n",
    "    return df\n",
    "df=convert_int(df)"
   ]
  },
  {
   "cell_type": "code",
   "execution_count": 52,
   "metadata": {},
   "outputs": [],
   "source": [
    "def calculate_percentages(df):\n",
    "    total=0\n",
    "    for i in df.columns:\n",
    "        total=df[i]+total\n",
    "    df = df.pipe(lambda x: (x*100).div(total, axis='index'))\n",
    "    df=df.fillna(0)\n",
    "    return df\n",
    "df=calculate_percentages(df)"
   ]
  },
  {
   "cell_type": "code",
   "execution_count": 54,
   "metadata": {},
   "outputs": [],
   "source": [
    "def standardize(row):\n",
    "    new_row = (row - row.mean())/(row.max()-row.min())\n",
    "    return new_row\n",
    "\n",
    "df_std = df.apply(standardize).T\n",
    "def correlation(df_std,df):\n",
    "\n",
    "    sparse_df = sparse.csr_matrix(df_std.values)\n",
    "    corrMatrix = pd.DataFrame(cosine_similarity(sparse_df),index=df.columns,columns=df.columns)\n",
    "    return corrMatrix\n",
    "corrMatrix=correlation(df_std,df)"
   ]
  },
  {
   "cell_type": "code",
   "execution_count": 66,
   "metadata": {},
   "outputs": [],
   "source": [
    "def get_similar(warehouse,percentage):\n",
    "    similar_score = corrMatrix[warehouse]*(percentage-50.5) #50..5 is the avg of percentage (0-100)\n",
    "    similar_score = similar_score.sort_values(ascending=False)\n",
    "    #print(type(similar_ratings))\n",
    "    return similar_score\n",
    "similar_score=get_similar(\"bluechip\",2)"
   ]
  },
  {
   "cell_type": "code",
   "execution_count": 72,
   "metadata": {},
   "outputs": [
    {
     "name": "stderr",
     "output_type": "stream",
     "text": [
      "/var/folders/yg/rsw8j92510j7cjvvkgjr4s2r0000gn/T/ipykernel_6050/2250151009.py:5: FutureWarning: The frame.append method is deprecated and will be removed from pandas in a future version. Use pandas.concat instead.\n",
      "  similar_scores = similar_scores.append(get_similar(warehouse,percentages),ignore_index = True)\n"
     ]
    }
   ],
   "source": [
    "def final_recommendation(portfolio):\n",
    "\n",
    "    similar_scores = pd.DataFrame()\n",
    "    for warehouse,percentages in portfolio:\n",
    "        similar_scores = similar_scores.append(get_similar(warehouse,percentages),ignore_index = True)\n",
    "\n",
    "    similar_scores.head(10)\n",
    "    return similar_scores\n",
    "\n",
    "portfolio = [(\"bluechip\",2.038503),(\"large_cap\",0),(\"mid_cap\",0)]\n",
    "\n",
    "similar_scores=final_recommendation(portfolio)"
   ]
  },
  {
   "cell_type": "code",
   "execution_count": 73,
   "metadata": {},
   "outputs": [
    {
     "data": {
      "text/plain": [
       "small_cap    55.818374\n",
       "mid_cap     -20.426789\n",
       "dtype: float64"
      ]
     },
     "execution_count": 73,
     "metadata": {},
     "output_type": "execute_result"
    }
   ],
   "source": [
    "similar_scores.sum().sort_values(ascending=False)[:2]"
   ]
  }
 ],
 "metadata": {
  "kernelspec": {
   "display_name": "myenv",
   "language": "python",
   "name": "python3"
  },
  "language_info": {
   "codemirror_mode": {
    "name": "ipython",
    "version": 3
   },
   "file_extension": ".py",
   "mimetype": "text/x-python",
   "name": "python",
   "nbconvert_exporter": "python",
   "pygments_lexer": "ipython3",
   "version": "3.10.9"
  },
  "orig_nbformat": 4,
  "vscode": {
   "interpreter": {
    "hash": "4af7488dcfde108f9c683715b101fe6437ff634acf522083d328504c20502deb"
   }
  }
 },
 "nbformat": 4,
 "nbformat_minor": 2
}
