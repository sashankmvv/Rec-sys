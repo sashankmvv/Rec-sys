{
 "cells": [
  {
   "cell_type": "code",
   "execution_count": 15,
   "metadata": {},
   "outputs": [],
   "source": [
    "import pandas as pd\n",
    "from scipy import sparse\n",
    "from sklearn.metrics.pairwise import cosine_similarity"
   ]
  },
  {
   "cell_type": "code",
   "execution_count": 16,
   "metadata": {},
   "outputs": [],
   "source": [
    "df=pd.read_csv(\"locations.csv\",index_col='Users')\n",
    "items=pd.read_csv(\"warehouses.csv\")"
   ]
  },
  {
   "cell_type": "code",
   "execution_count": 17,
   "metadata": {},
   "outputs": [
    {
     "data": {
      "text/html": [
       "<div>\n",
       "<style scoped>\n",
       "    .dataframe tbody tr th:only-of-type {\n",
       "        vertical-align: middle;\n",
       "    }\n",
       "\n",
       "    .dataframe tbody tr th {\n",
       "        vertical-align: top;\n",
       "    }\n",
       "\n",
       "    .dataframe thead th {\n",
       "        text-align: right;\n",
       "    }\n",
       "</style>\n",
       "<table border=\"1\" class=\"dataframe\">\n",
       "  <thead>\n",
       "    <tr style=\"text-align: right;\">\n",
       "      <th></th>\n",
       "      <th>Urban</th>\n",
       "      <th>Semi_Urban</th>\n",
       "      <th>Rural</th>\n",
       "      <th>Semi_Rural</th>\n",
       "      <th>Remote</th>\n",
       "    </tr>\n",
       "    <tr>\n",
       "      <th>Users</th>\n",
       "      <th></th>\n",
       "      <th></th>\n",
       "      <th></th>\n",
       "      <th></th>\n",
       "      <th></th>\n",
       "    </tr>\n",
       "  </thead>\n",
       "  <tbody>\n",
       "    <tr>\n",
       "      <th>70-262-7631</th>\n",
       "      <td>18699.0</td>\n",
       "      <td>NaN</td>\n",
       "      <td>NaN</td>\n",
       "      <td>95878.0</td>\n",
       "      <td>802714.0</td>\n",
       "    </tr>\n",
       "  </tbody>\n",
       "</table>\n",
       "</div>"
      ],
      "text/plain": [
       "               Urban  Semi_Urban  Rural  Semi_Rural    Remote\n",
       "Users                                                        \n",
       "70-262-7631  18699.0         NaN    NaN     95878.0  802714.0"
      ]
     },
     "execution_count": 17,
     "metadata": {},
     "output_type": "execute_result"
    }
   ],
   "source": [
    "df.head(1)"
   ]
  },
  {
   "cell_type": "code",
   "execution_count": 18,
   "metadata": {},
   "outputs": [],
   "source": [
    "df=df.fillna(0)"
   ]
  },
  {
   "cell_type": "code",
   "execution_count": 19,
   "metadata": {},
   "outputs": [],
   "source": [
    "df['Urban'] = df['Urban'].astype('int')\n",
    "df['Semi_Urban'] = df['Semi_Urban'].astype('int')\n",
    "df['Rural'] = df['Rural'].astype('int')\n",
    "df['Semi_Rural']=df['Semi_Rural'].astype('int')\n",
    "df['Remote']=df['Remote'].astype('int')\n"
   ]
  },
  {
   "cell_type": "code",
   "execution_count": 20,
   "metadata": {},
   "outputs": [],
   "source": [
    "total = df['Urban'] + df['Semi_Urban']+df['Rural']+df['Semi_Rural']+df['Remote']\n",
    "df = df.pipe(lambda x: (x*100).div(total, axis='index'))\n"
   ]
  },
  {
   "cell_type": "code",
   "execution_count": 21,
   "metadata": {},
   "outputs": [
    {
     "data": {
      "text/html": [
       "<div>\n",
       "<style scoped>\n",
       "    .dataframe tbody tr th:only-of-type {\n",
       "        vertical-align: middle;\n",
       "    }\n",
       "\n",
       "    .dataframe tbody tr th {\n",
       "        vertical-align: top;\n",
       "    }\n",
       "\n",
       "    .dataframe thead th {\n",
       "        text-align: right;\n",
       "    }\n",
       "</style>\n",
       "<table border=\"1\" class=\"dataframe\">\n",
       "  <thead>\n",
       "    <tr style=\"text-align: right;\">\n",
       "      <th></th>\n",
       "      <th>Urban</th>\n",
       "      <th>Semi_Urban</th>\n",
       "      <th>Rural</th>\n",
       "      <th>Semi_Rural</th>\n",
       "      <th>Remote</th>\n",
       "    </tr>\n",
       "    <tr>\n",
       "      <th>Users</th>\n",
       "      <th></th>\n",
       "      <th></th>\n",
       "      <th></th>\n",
       "      <th></th>\n",
       "      <th></th>\n",
       "    </tr>\n",
       "  </thead>\n",
       "  <tbody>\n",
       "    <tr>\n",
       "      <th>70-262-7631</th>\n",
       "      <td>2.038503</td>\n",
       "      <td>0.000000</td>\n",
       "      <td>0.000000</td>\n",
       "      <td>10.452299</td>\n",
       "      <td>87.509198</td>\n",
       "    </tr>\n",
       "    <tr>\n",
       "      <th>67-529-8002</th>\n",
       "      <td>0.000000</td>\n",
       "      <td>0.000000</td>\n",
       "      <td>100.000000</td>\n",
       "      <td>0.000000</td>\n",
       "      <td>0.000000</td>\n",
       "    </tr>\n",
       "    <tr>\n",
       "      <th>71-032-7622</th>\n",
       "      <td>5.801065</td>\n",
       "      <td>31.240757</td>\n",
       "      <td>0.000000</td>\n",
       "      <td>62.958177</td>\n",
       "      <td>0.000000</td>\n",
       "    </tr>\n",
       "    <tr>\n",
       "      <th>57-852-3909</th>\n",
       "      <td>9.889037</td>\n",
       "      <td>32.302924</td>\n",
       "      <td>57.808038</td>\n",
       "      <td>0.000000</td>\n",
       "      <td>0.000000</td>\n",
       "    </tr>\n",
       "    <tr>\n",
       "      <th>52-706-8422</th>\n",
       "      <td>1.439550</td>\n",
       "      <td>3.752258</td>\n",
       "      <td>0.000000</td>\n",
       "      <td>7.998960</td>\n",
       "      <td>86.809231</td>\n",
       "    </tr>\n",
       "    <tr>\n",
       "      <th>...</th>\n",
       "      <td>...</td>\n",
       "      <td>...</td>\n",
       "      <td>...</td>\n",
       "      <td>...</td>\n",
       "      <td>...</td>\n",
       "    </tr>\n",
       "    <tr>\n",
       "      <th>19-969-8322</th>\n",
       "      <td>2.945913</td>\n",
       "      <td>0.000000</td>\n",
       "      <td>0.000000</td>\n",
       "      <td>0.000000</td>\n",
       "      <td>97.054087</td>\n",
       "    </tr>\n",
       "    <tr>\n",
       "      <th>97-991-2766</th>\n",
       "      <td>38.004776</td>\n",
       "      <td>61.995224</td>\n",
       "      <td>0.000000</td>\n",
       "      <td>0.000000</td>\n",
       "      <td>0.000000</td>\n",
       "    </tr>\n",
       "    <tr>\n",
       "      <th>36-333-1725</th>\n",
       "      <td>NaN</td>\n",
       "      <td>NaN</td>\n",
       "      <td>NaN</td>\n",
       "      <td>NaN</td>\n",
       "      <td>NaN</td>\n",
       "    </tr>\n",
       "    <tr>\n",
       "      <th>94-408-6823</th>\n",
       "      <td>0.000000</td>\n",
       "      <td>6.521320</td>\n",
       "      <td>0.000000</td>\n",
       "      <td>0.000000</td>\n",
       "      <td>93.478680</td>\n",
       "    </tr>\n",
       "    <tr>\n",
       "      <th>90-283-7190</th>\n",
       "      <td>2.516583</td>\n",
       "      <td>7.613878</td>\n",
       "      <td>0.000000</td>\n",
       "      <td>26.013111</td>\n",
       "      <td>63.856428</td>\n",
       "    </tr>\n",
       "  </tbody>\n",
       "</table>\n",
       "<p>1000 rows × 5 columns</p>\n",
       "</div>"
      ],
      "text/plain": [
       "                 Urban  Semi_Urban       Rural  Semi_Rural     Remote\n",
       "Users                                                                \n",
       "70-262-7631   2.038503    0.000000    0.000000   10.452299  87.509198\n",
       "67-529-8002   0.000000    0.000000  100.000000    0.000000   0.000000\n",
       "71-032-7622   5.801065   31.240757    0.000000   62.958177   0.000000\n",
       "57-852-3909   9.889037   32.302924   57.808038    0.000000   0.000000\n",
       "52-706-8422   1.439550    3.752258    0.000000    7.998960  86.809231\n",
       "...                ...         ...         ...         ...        ...\n",
       "19-969-8322   2.945913    0.000000    0.000000    0.000000  97.054087\n",
       "97-991-2766  38.004776   61.995224    0.000000    0.000000   0.000000\n",
       "36-333-1725        NaN         NaN         NaN         NaN        NaN\n",
       "94-408-6823   0.000000    6.521320    0.000000    0.000000  93.478680\n",
       "90-283-7190   2.516583    7.613878    0.000000   26.013111  63.856428\n",
       "\n",
       "[1000 rows x 5 columns]"
      ]
     },
     "execution_count": 21,
     "metadata": {},
     "output_type": "execute_result"
    }
   ],
   "source": [
    "df"
   ]
  },
  {
   "cell_type": "code",
   "execution_count": 22,
   "metadata": {},
   "outputs": [],
   "source": [
    "df=df.fillna(0)"
   ]
  },
  {
   "cell_type": "code",
   "execution_count": 23,
   "metadata": {},
   "outputs": [
    {
     "name": "stdout",
     "output_type": "stream",
     "text": [
      "Users       70-262-7631  67-529-8002  71-032-7622  57-852-3909  52-706-8422  \\\n",
      "Urban         -0.022069    -0.042454     0.015556     0.056436    -0.028059   \n",
      "Semi_Urban    -0.120431    -0.120431     0.191976     0.202598    -0.082909   \n",
      "Rural         -0.206394     0.793606    -0.206394     0.371686    -0.206394   \n",
      "Semi_Rural    -0.081998    -0.186521     0.443061    -0.186521    -0.106532   \n",
      "Remote         0.438893    -0.436199    -0.436199    -0.436199     0.431893   \n",
      "\n",
      "Users       44-801-7398  32-006-4001  51-912-0166  31-892-4916  38-876-1221  \\\n",
      "Urban         -0.039124    -0.023399    -0.042454     0.010580    -0.018918   \n",
      "Semi_Urban    -0.080530    -0.120431     0.037467     0.328266     0.159467   \n",
      "Rural         -0.206394    -0.078895     0.205879     0.291874    -0.206394   \n",
      "Semi_Rural    -0.186521    -0.186521     0.243307    -0.186521     0.510044   \n",
      "Remote         0.520569     0.417247    -0.436199    -0.436199    -0.436199   \n",
      "\n",
      "Users       ...  43-694-1884  60-681-3620  78-028-0222  42-603-4538  \\\n",
      "Urban       ...    -0.042454     0.003984    -0.028424     0.022269   \n",
      "Semi_Urban  ...    -0.076629     0.102713     0.044404    -0.120431   \n",
      "Rural       ...    -0.141183     0.062002     0.157667     0.163044   \n",
      "Semi_Rural  ...    -0.100181     0.275501     0.270552     0.379317   \n",
      "Remote      ...     0.368447    -0.436199    -0.436199    -0.436199   \n",
      "\n",
      "Users       96-565-0127  19-969-8322  97-991-2766  36-333-1725  94-408-6823  \\\n",
      "Urban         -0.031848    -0.012995     0.337593    -0.042454    -0.042454   \n",
      "Semi_Urban    -0.120431    -0.120431     0.499521    -0.120431    -0.055218   \n",
      "Rural         -0.107066    -0.206394    -0.206394    -0.206394    -0.206394   \n",
      "Semi_Rural    -0.186521    -0.186521    -0.186521    -0.186521    -0.186521   \n",
      "Remote         0.453867     0.534342    -0.436199    -0.436199     0.498588   \n",
      "\n",
      "Users       90-283-7190  \n",
      "Urban         -0.017289  \n",
      "Semi_Urban    -0.044293  \n",
      "Rural         -0.206394  \n",
      "Semi_Rural     0.073610  \n",
      "Remote         0.202365  \n",
      "\n",
      "[5 rows x 1000 columns]\n"
     ]
    },
    {
     "data": {
      "text/html": [
       "<div>\n",
       "<style scoped>\n",
       "    .dataframe tbody tr th:only-of-type {\n",
       "        vertical-align: middle;\n",
       "    }\n",
       "\n",
       "    .dataframe tbody tr th {\n",
       "        vertical-align: top;\n",
       "    }\n",
       "\n",
       "    .dataframe thead th {\n",
       "        text-align: right;\n",
       "    }\n",
       "</style>\n",
       "<table border=\"1\" class=\"dataframe\">\n",
       "  <thead>\n",
       "    <tr style=\"text-align: right;\">\n",
       "      <th></th>\n",
       "      <th>Urban</th>\n",
       "      <th>Semi_Urban</th>\n",
       "      <th>Rural</th>\n",
       "      <th>Semi_Rural</th>\n",
       "      <th>Remote</th>\n",
       "    </tr>\n",
       "  </thead>\n",
       "  <tbody>\n",
       "    <tr>\n",
       "      <th>Urban</th>\n",
       "      <td>1.000000</td>\n",
       "      <td>0.075644</td>\n",
       "      <td>-0.002146</td>\n",
       "      <td>-0.061744</td>\n",
       "      <td>-0.291059</td>\n",
       "    </tr>\n",
       "    <tr>\n",
       "      <th>Semi_Urban</th>\n",
       "      <td>0.075644</td>\n",
       "      <td>1.000000</td>\n",
       "      <td>0.000284</td>\n",
       "      <td>-0.039855</td>\n",
       "      <td>-0.462501</td>\n",
       "    </tr>\n",
       "    <tr>\n",
       "      <th>Rural</th>\n",
       "      <td>-0.002146</td>\n",
       "      <td>0.000284</td>\n",
       "      <td>1.000000</td>\n",
       "      <td>-0.071725</td>\n",
       "      <td>-0.571299</td>\n",
       "    </tr>\n",
       "    <tr>\n",
       "      <th>Semi_Rural</th>\n",
       "      <td>-0.061744</td>\n",
       "      <td>-0.039855</td>\n",
       "      <td>-0.071725</td>\n",
       "      <td>1.000000</td>\n",
       "      <td>-0.510559</td>\n",
       "    </tr>\n",
       "    <tr>\n",
       "      <th>Remote</th>\n",
       "      <td>-0.291059</td>\n",
       "      <td>-0.462501</td>\n",
       "      <td>-0.571299</td>\n",
       "      <td>-0.510559</td>\n",
       "      <td>1.000000</td>\n",
       "    </tr>\n",
       "  </tbody>\n",
       "</table>\n",
       "</div>"
      ],
      "text/plain": [
       "               Urban  Semi_Urban     Rural  Semi_Rural    Remote\n",
       "Urban       1.000000    0.075644 -0.002146   -0.061744 -0.291059\n",
       "Semi_Urban  0.075644    1.000000  0.000284   -0.039855 -0.462501\n",
       "Rural      -0.002146    0.000284  1.000000   -0.071725 -0.571299\n",
       "Semi_Rural -0.061744   -0.039855 -0.071725    1.000000 -0.510559\n",
       "Remote     -0.291059   -0.462501 -0.571299   -0.510559  1.000000"
      ]
     },
     "execution_count": 23,
     "metadata": {},
     "output_type": "execute_result"
    }
   ],
   "source": [
    "def standardize(row):\n",
    "    new_row = (row - row.mean())/(row.max()-row.min())\n",
    "    return new_row\n",
    "\n",
    "df_std = df.apply(standardize).T\n",
    "print(df_std)\n",
    "\n",
    "sparse_df = sparse.csr_matrix(df_std.values)\n",
    "corrMatrix = pd.DataFrame(cosine_similarity(sparse_df),index=df.columns,columns=df.columns)\n",
    "corrMatrix"
   ]
  },
  {
   "cell_type": "code",
   "execution_count": 24,
   "metadata": {},
   "outputs": [
    {
     "data": {
      "text/plain": [
       "Rural         27.707995\n",
       "Semi_Rural    24.762088\n",
       "Semi_Urban    22.431296\n",
       "Urban         14.116362\n",
       "Remote       -48.500000\n",
       "Name: Remote, dtype: float64"
      ]
     },
     "execution_count": 24,
     "metadata": {},
     "output_type": "execute_result"
    }
   ],
   "source": [
    "def get_similar(movie_name,rating):\n",
    "    similar_score = corrMatrix[movie_name]*(rating-50.5) #50..5 is the avg of percentage (0-100)\n",
    "    similar_score = similar_score.sort_values(ascending=False)\n",
    "    #print(type(similar_ratings))\n",
    "    return similar_score\n",
    "get_similar(\"Remote\",2)"
   ]
  },
  {
   "cell_type": "code",
   "execution_count": 26,
   "metadata": {},
   "outputs": [
    {
     "name": "stderr",
     "output_type": "stream",
     "text": [
      "/var/folders/yg/rsw8j92510j7cjvvkgjr4s2r0000gn/T/ipykernel_5501/3906771805.py:4: FutureWarning: The frame.append method is deprecated and will be removed from pandas in a future version. Use pandas.concat instead.\n",
      "  similar_scores = similar_scores.append(get_similar(warehouse,percentage_portfolio),ignore_index = True)\n"
     ]
    },
    {
     "data": {
      "text/html": [
       "<div>\n",
       "<style scoped>\n",
       "    .dataframe tbody tr th:only-of-type {\n",
       "        vertical-align: middle;\n",
       "    }\n",
       "\n",
       "    .dataframe tbody tr th {\n",
       "        vertical-align: top;\n",
       "    }\n",
       "\n",
       "    .dataframe thead th {\n",
       "        text-align: right;\n",
       "    }\n",
       "</style>\n",
       "<table border=\"1\" class=\"dataframe\">\n",
       "  <thead>\n",
       "    <tr style=\"text-align: right;\">\n",
       "      <th></th>\n",
       "      <th>Remote</th>\n",
       "      <th>Semi_Rural</th>\n",
       "      <th>Urban</th>\n",
       "      <th>Semi_Urban</th>\n",
       "      <th>Rural</th>\n",
       "    </tr>\n",
       "  </thead>\n",
       "  <tbody>\n",
       "    <tr>\n",
       "      <th>0</th>\n",
       "      <td>27.685998</td>\n",
       "      <td>3.475925</td>\n",
       "      <td>0.103984</td>\n",
       "      <td>-0.013768</td>\n",
       "      <td>-48.461497</td>\n",
       "    </tr>\n",
       "    <tr>\n",
       "      <th>1</th>\n",
       "      <td>25.783205</td>\n",
       "      <td>-50.500000</td>\n",
       "      <td>3.118065</td>\n",
       "      <td>2.012695</td>\n",
       "      <td>3.622137</td>\n",
       "    </tr>\n",
       "    <tr>\n",
       "      <th>2</th>\n",
       "      <td>23.356297</td>\n",
       "      <td>2.012695</td>\n",
       "      <td>-3.820037</td>\n",
       "      <td>-50.500000</td>\n",
       "      <td>-0.014347</td>\n",
       "    </tr>\n",
       "    <tr>\n",
       "      <th>3</th>\n",
       "      <td>11.656244</td>\n",
       "      <td>2.472699</td>\n",
       "      <td>-40.047701</td>\n",
       "      <td>-3.029380</td>\n",
       "      <td>0.085930</td>\n",
       "    </tr>\n",
       "  </tbody>\n",
       "</table>\n",
       "</div>"
      ],
      "text/plain": [
       "      Remote  Semi_Rural      Urban  Semi_Urban      Rural\n",
       "0  27.685998    3.475925   0.103984   -0.013768 -48.461497\n",
       "1  25.783205  -50.500000   3.118065    2.012695   3.622137\n",
       "2  23.356297    2.012695  -3.820037  -50.500000  -0.014347\n",
       "3  11.656244    2.472699 -40.047701   -3.029380   0.085930"
      ]
     },
     "execution_count": 26,
     "metadata": {},
     "output_type": "execute_result"
    }
   ],
   "source": [
    "warehouse_investor = [(\"Rural\",2.038503),(\"Semi_Rural\",0),(\"Semi_Urban\",0),(\"Urban\",10.452299)]\n",
    "similar_scores = pd.DataFrame()\n",
    "for warehouse,percentage_portfolio in warehouse_investor:\n",
    "    similar_scores = similar_scores.append(get_similar(warehouse,percentage_portfolio),ignore_index = True)\n",
    "\n",
    "similar_scores.head(10)"
   ]
  },
  {
   "cell_type": "code",
   "execution_count": 27,
   "metadata": {},
   "outputs": [
    {
     "data": {
      "text/plain": [
       "Remote    88.481744\n",
       "Urban    -40.645690\n",
       "dtype: float64"
      ]
     },
     "execution_count": 27,
     "metadata": {},
     "output_type": "execute_result"
    }
   ],
   "source": [
    "similar_scores.sum().sort_values(ascending=False)[:2]"
   ]
  },
  {
   "cell_type": "code",
   "execution_count": null,
   "metadata": {},
   "outputs": [],
   "source": []
  }
 ],
 "metadata": {
  "kernelspec": {
   "display_name": "myenv",
   "language": "python",
   "name": "python3"
  },
  "language_info": {
   "codemirror_mode": {
    "name": "ipython",
    "version": 3
   },
   "file_extension": ".py",
   "mimetype": "text/x-python",
   "name": "python",
   "nbconvert_exporter": "python",
   "pygments_lexer": "ipython3",
   "version": "3.10.9"
  },
  "orig_nbformat": 4,
  "vscode": {
   "interpreter": {
    "hash": "4af7488dcfde108f9c683715b101fe6437ff634acf522083d328504c20502deb"
   }
  }
 },
 "nbformat": 4,
 "nbformat_minor": 2
}
